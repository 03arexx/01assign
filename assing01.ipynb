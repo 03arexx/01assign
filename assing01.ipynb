{
 "cells": [
  {
   "cell_type": "markdown",
   "id": "17e0b21b-1318-476c-b790-e015ad13d022",
   "metadata": {},
   "source": [
    "Q1.\n"
   ]
  },
  {
   "cell_type": "code",
   "execution_count": 1,
   "id": "e784c36f-4d30-454c-8811-45ce349e9339",
   "metadata": {},
   "outputs": [],
   "source": [
    "a=\"reshad\""
   ]
  },
  {
   "cell_type": "code",
   "execution_count": 6,
   "id": "76ca524c-419c-4d85-bd5f-fdfac71a2c20",
   "metadata": {},
   "outputs": [
    {
     "name": "stdout",
     "output_type": "stream",
     "text": [
      "<class 'str'>\n"
     ]
    }
   ],
   "source": [
    "print(type(a))"
   ]
  },
  {
   "cell_type": "code",
   "execution_count": 4,
   "id": "fe005b1e-5789-4d11-9f01-86836f656224",
   "metadata": {},
   "outputs": [],
   "source": [
    "l =[12,34,'hello',True,45.9]"
   ]
  },
  {
   "cell_type": "code",
   "execution_count": 7,
   "id": "a6babca8-1187-465b-a380-4c63f6466156",
   "metadata": {},
   "outputs": [
    {
     "name": "stdout",
     "output_type": "stream",
     "text": [
      "<class 'list'>\n"
     ]
    }
   ],
   "source": [
    "print(type(l))"
   ]
  },
  {
   "cell_type": "code",
   "execution_count": 8,
   "id": "0793b105-add2-476d-a4a7-260e8e8b2adc",
   "metadata": {},
   "outputs": [],
   "source": [
    "b=89.98\n"
   ]
  },
  {
   "cell_type": "code",
   "execution_count": 9,
   "id": "7256df7c-8f45-40fd-a138-fc8105e8eb51",
   "metadata": {},
   "outputs": [
    {
     "name": "stdout",
     "output_type": "stream",
     "text": [
      "<class 'float'>\n"
     ]
    }
   ],
   "source": [
    "print(type(b))"
   ]
  },
  {
   "cell_type": "code",
   "execution_count": 10,
   "id": "3588dd83-8b13-4b21-bf32-958cb3d891c8",
   "metadata": {},
   "outputs": [],
   "source": [
    "t=(23,56,'rexx',8.5)"
   ]
  },
  {
   "cell_type": "code",
   "execution_count": 12,
   "id": "17410c6e-7f30-4a03-a2b5-1486b9327180",
   "metadata": {},
   "outputs": [
    {
     "name": "stdout",
     "output_type": "stream",
     "text": [
      "<class 'tuple'>\n"
     ]
    }
   ],
   "source": [
    "print(type(t))\n"
   ]
  },
  {
   "cell_type": "markdown",
   "id": "49f70c68-b241-49b7-8f7a-126ed65be6ae",
   "metadata": {},
   "source": [
    "\n",
    "\n",
    "Q2."
   ]
  },
  {
   "cell_type": "code",
   "execution_count": 17,
   "id": "1440c4ae-e504-44a8-8848-cadcf8241cfa",
   "metadata": {},
   "outputs": [],
   "source": [
    "var3 = [ 'DS' , 'ML' , 'Python' ]"
   ]
  },
  {
   "cell_type": "code",
   "execution_count": 18,
   "id": "54da490c-0eac-4130-9835-09ab6fb88f16",
   "metadata": {},
   "outputs": [
    {
     "data": {
      "text/plain": [
       "list"
      ]
     },
     "execution_count": 18,
     "metadata": {},
     "output_type": "execute_result"
    }
   ],
   "source": [
    "type(var3)"
   ]
  },
  {
   "cell_type": "code",
   "execution_count": 19,
   "id": "57d5f99d-d43e-4620-86f3-f2c17b6ce308",
   "metadata": {},
   "outputs": [],
   "source": [
    "var4=1"
   ]
  },
  {
   "cell_type": "code",
   "execution_count": 20,
   "id": "edd07fee-d013-4174-b546-eb9be9c09274",
   "metadata": {},
   "outputs": [
    {
     "data": {
      "text/plain": [
       "int"
      ]
     },
     "execution_count": 20,
     "metadata": {},
     "output_type": "execute_result"
    }
   ],
   "source": [
    "type(var4)"
   ]
  },
  {
   "cell_type": "code",
   "execution_count": 21,
   "id": "496baa5a-05eb-4e97-8a1a-8c8d86993a7e",
   "metadata": {},
   "outputs": [],
   "source": [
    "var2 = '[ DS , ML , Python]'"
   ]
  },
  {
   "cell_type": "code",
   "execution_count": 22,
   "id": "9b35da47-356c-4acf-a857-fbda6eb84fd0",
   "metadata": {},
   "outputs": [
    {
     "data": {
      "text/plain": [
       "str"
      ]
     },
     "execution_count": 22,
     "metadata": {},
     "output_type": "execute_result"
    }
   ],
   "source": [
    "type(var2)"
   ]
  },
  {
   "cell_type": "code",
   "execution_count": 23,
   "id": "11dc44ae-b4ca-4561-bd22-fd8ef0488769",
   "metadata": {},
   "outputs": [],
   "source": [
    "var1=''"
   ]
  },
  {
   "cell_type": "code",
   "execution_count": 24,
   "id": "e894da67-ca86-48be-93f0-a8e20512f4b5",
   "metadata": {},
   "outputs": [
    {
     "data": {
      "text/plain": [
       "str"
      ]
     },
     "execution_count": 24,
     "metadata": {},
     "output_type": "execute_result"
    }
   ],
   "source": [
    "type(var1)"
   ]
  },
  {
   "cell_type": "markdown",
   "id": "0b95e734-b090-4858-9b00-1c453415efac",
   "metadata": {},
   "source": [
    "Q3.\n",
    "\n"
   ]
  },
  {
   "cell_type": "code",
   "execution_count": 26,
   "id": "16da3d95-94fe-4161-8b65-cb92b20b7698",
   "metadata": {},
   "outputs": [],
   "source": [
    "a=70\n",
    "b=7"
   ]
  },
  {
   "cell_type": "code",
   "execution_count": 27,
   "id": "00d033df-4293-4f31-91c0-4d923a348247",
   "metadata": {},
   "outputs": [
    {
     "data": {
      "text/plain": [
       "10.0"
      ]
     },
     "execution_count": 27,
     "metadata": {},
     "output_type": "execute_result"
    }
   ],
   "source": [
    "a/b"
   ]
  },
  {
   "cell_type": "code",
   "execution_count": 28,
   "id": "5102b404-983f-48b3-9fb9-cf1e574ea365",
   "metadata": {},
   "outputs": [
    {
     "data": {
      "text/plain": [
       "0"
      ]
     },
     "execution_count": 28,
     "metadata": {},
     "output_type": "execute_result"
    }
   ],
   "source": [
    "a%b"
   ]
  },
  {
   "cell_type": "code",
   "execution_count": 29,
   "id": "c66507a6-ca2c-4dfe-ad21-d4fe4c8a308b",
   "metadata": {},
   "outputs": [
    {
     "data": {
      "text/plain": [
       "10"
      ]
     },
     "execution_count": 29,
     "metadata": {},
     "output_type": "execute_result"
    }
   ],
   "source": [
    "a//b"
   ]
  },
  {
   "cell_type": "code",
   "execution_count": 30,
   "id": "a3a7161c-0bbc-474e-97f0-e32e58a66e92",
   "metadata": {},
   "outputs": [
    {
     "data": {
      "text/plain": [
       "8235430000000"
      ]
     },
     "execution_count": 30,
     "metadata": {},
     "output_type": "execute_result"
    }
   ],
   "source": [
    "a**b"
   ]
  },
  {
   "cell_type": "markdown",
   "id": "8b7a9e9f-2162-474d-be1d-d7a12e5f2eb2",
   "metadata": {},
   "source": [
    "/ Division will simply divide your number.\n",
    "\n",
    "% Modulus ,this  gives the remainder when the first number is divided from the second number.\n",
    "\n",
    "// Floor division ,this will give ypu floor value.\n",
    "\n",
    "** \tExponentiation like 2*2 is 4"
   ]
  },
  {
   "cell_type": "markdown",
   "id": "30eb61be-dc43-4624-9166-9ea84f2e7b58",
   "metadata": {},
   "source": [
    "Q4."
   ]
  },
  {
   "cell_type": "code",
   "execution_count": 31,
   "id": "70cc69dc-b448-4bce-8e66-aa2ffff6a874",
   "metadata": {},
   "outputs": [],
   "source": [
    "list=[10,28,34,'rexx',8.7,True,False,'rahul',54,'34']"
   ]
  },
  {
   "cell_type": "code",
   "execution_count": 32,
   "id": "ed744c6b-71eb-4cae-a616-28f4b59b220e",
   "metadata": {},
   "outputs": [
    {
     "data": {
      "text/plain": [
       "10"
      ]
     },
     "execution_count": 32,
     "metadata": {},
     "output_type": "execute_result"
    }
   ],
   "source": [
    "len(list)"
   ]
  },
  {
   "cell_type": "code",
   "execution_count": 35,
   "id": "ffd31f85-42b2-4d5c-a538-41b6e403e670",
   "metadata": {},
   "outputs": [
    {
     "name": "stdout",
     "output_type": "stream",
     "text": [
      "10\n",
      "28\n",
      "34\n",
      "rexx\n",
      "8.7\n",
      "True\n",
      "False\n",
      "rahul\n",
      "54\n",
      "34\n"
     ]
    }
   ],
   "source": [
    "for i in list:\n",
    "    print(i)"
   ]
  },
  {
   "cell_type": "code",
   "execution_count": 37,
   "id": "6e422d3c-3830-4659-bfca-da38374637c4",
   "metadata": {},
   "outputs": [
    {
     "name": "stdout",
     "output_type": "stream",
     "text": [
      "<class 'int'>\n",
      "<class 'int'>\n",
      "<class 'int'>\n",
      "<class 'str'>\n",
      "<class 'float'>\n",
      "<class 'bool'>\n",
      "<class 'bool'>\n",
      "<class 'str'>\n",
      "<class 'int'>\n",
      "<class 'str'>\n"
     ]
    }
   ],
   "source": [
    "for i in list:\n",
    "    print(type(i))"
   ]
  },
  {
   "cell_type": "markdown",
   "id": "f12e0443-36dc-4c0d-b840-e79452628f3e",
   "metadata": {},
   "source": [
    "Q5. Using a while loop, verify if the number A is purely divisible by number B and if so then how many\n",
    "times it can be divisible."
   ]
  },
  {
   "cell_type": "code",
   "execution_count": 1,
   "id": "cf75036e-6edd-4b3c-8564-f36f42d4d786",
   "metadata": {},
   "outputs": [
    {
     "name": "stdin",
     "output_type": "stream",
     "text": [
      "enter your first number 50\n",
      "enter your second number 5\n"
     ]
    },
    {
     "name": "stdout",
     "output_type": "stream",
     "text": [
      "a is purely divisible by b\n"
     ]
    }
   ],
   "source": [
    "a=int(input('enter your first number'))\n",
    "b=int(input('enter your second number'))\n",
    "while a%b==0:\n",
    "    print('a is purely divisible by b')\n",
    "    break \n",
    "else:\n",
    "    print (\"its not\")\n"
   ]
  },
  {
   "cell_type": "markdown",
   "id": "b64eab0a-26dc-4e4e-b523-8c5bee7e4520",
   "metadata": {},
   "source": [
    "Q6.Create a list containing 25 int type data. Using for loop and if-else condition print if the element is\n",
    "divisible by 3 or not.\n"
   ]
  },
  {
   "cell_type": "code",
   "execution_count": 28,
   "id": "1ddee3bd-af88-47c7-bac9-8581b7e7a1f9",
   "metadata": {},
   "outputs": [
    {
     "name": "stdout",
     "output_type": "stream",
     "text": [
      "12 is divisible by 3\n",
      "7 is not divisible by 3\n",
      "9 is divisible by 3\n",
      "18 is divisible by 3\n",
      "30 is divisible by 3\n",
      "42 is divisible by 3\n",
      "55 is not divisible by 3\n",
      "63 is divisible by 3\n",
      "8 is not divisible by 3\n",
      "21 is divisible by 3\n",
      "36 is divisible by 3\n",
      "11 is not divisible by 3\n",
      "77 is not divisible by 3\n",
      "99 is divisible by 3\n",
      "45 is divisible by 3\n",
      "24 is divisible by 3\n",
      "6 is divisible by 3\n",
      "81 is divisible by 3\n",
      "15 is divisible by 3\n",
      "17 is not divisible by 3\n",
      "20 is not divisible by 3\n",
      "29 is not divisible by 3\n",
      "72 is divisible by 3\n",
      "90 is divisible by 3\n",
      "50 is not divisible by 3\n"
     ]
    }
   ],
   "source": [
    "\n",
    "my_list = [12, 7, 9, 18, 30, 42, 55, 63, 8, 21, 36, 11, 77, 99, 45, 24, 6, 81, 15, 17, 20, 29, 72, 90, 50]\n",
    "for num in my_list:\n",
    "    if num % 3 == 0:\n",
    "        print(f\"{num} is divisible by 3\")\n",
    "    else:\n",
    "        print(f\"{num} is not divisible by 3\")\n",
    "\n",
    "    \n",
    "    "
   ]
  },
  {
   "cell_type": "markdown",
   "id": "bdd7cf46-cc92-4a6b-b256-5cdb260cdd16",
   "metadata": {},
   "source": [
    "Q7.What do you understand about mutable and immutable data types? Give examples for both showing\n",
    "this property."
   ]
  },
  {
   "cell_type": "markdown",
   "id": "1d73246a-0477-4970-b107-ebc9d792b900",
   "metadata": {},
   "source": [
    "Immutable Data Types:\n",
    "\n",
    "*Immutable data types are those whose values cannot be modified after they are created.\n",
    "*When you perform an operation that seems to modify an immutable object, you're actually creating a new object with the modified value.\n",
    "*Examples of immutable data types in Python include integers, floats, strings, and tuples.\n",
    "\n",
    "\n",
    "Mutable Data Types:\n",
    "\n",
    "Mutable data types are those whose values can be modified after they are created.\n",
    "When you modify a mutable object, you are directly changing its value in memory, and there's no need to create a new object.\n",
    "Examples of mutable data types in Python include lists, dictionaries, and sets."
   ]
  },
  {
   "cell_type": "code",
   "execution_count": 29,
   "id": "1be49a45-6c7e-4968-8f6b-e95f748d569b",
   "metadata": {},
   "outputs": [
    {
     "name": "stdout",
     "output_type": "stream",
     "text": [
      "Hello\n",
      "Hello, World!\n"
     ]
    }
   ],
   "source": [
    "# Strings are immutable\n",
    "string1 = \"Hello\"\n",
    "string2 = string1  # Assign string1 to string2\n",
    "string2 += \", World!\"  # This creates a new string\n",
    "print(string1)  # Output: Hello\n",
    "print(string2)  # Output: Hello, World!\n"
   ]
  },
  {
   "cell_type": "code",
   "execution_count": 30,
   "id": "3ed15ed2-3697-498c-aea2-74eebeb7e21a",
   "metadata": {},
   "outputs": [
    {
     "name": "stdout",
     "output_type": "stream",
     "text": [
      "[1, 2, 3, 4]\n",
      "[1, 2, 3, 4]\n"
     ]
    }
   ],
   "source": [
    "# Lists are mutable\n",
    "list1 = [1, 2, 3]\n",
    "list2 = list1  # Assign list1 to list2\n",
    "list2.append(4)  # This modifies the original list\n",
    "print(list1)  # Output: [1, 2, 3, 4]\n",
    "print(list2)  # Output: [1, 2, 3, 4]\n"
   ]
  },
  {
   "cell_type": "code",
   "execution_count": null,
   "id": "75df461a-7c1d-463b-b704-fa34f39f44de",
   "metadata": {},
   "outputs": [],
   "source": []
  }
 ],
 "metadata": {
  "kernelspec": {
   "display_name": "Python 3 (ipykernel)",
   "language": "python",
   "name": "python3"
  },
  "language_info": {
   "codemirror_mode": {
    "name": "ipython",
    "version": 3
   },
   "file_extension": ".py",
   "mimetype": "text/x-python",
   "name": "python",
   "nbconvert_exporter": "python",
   "pygments_lexer": "ipython3",
   "version": "3.10.8"
  }
 },
 "nbformat": 4,
 "nbformat_minor": 5
}
